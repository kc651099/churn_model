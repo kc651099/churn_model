{
 "cells": [
  {
   "cell_type": "code",
   "execution_count": 1,
   "metadata": {
    "collapsed": true
   },
   "outputs": [],
   "source": [
    "import pandas as pd\n",
    "from sklearn.linear_model.logistic import LogisticRegression\n",
    "from sklearn.cross_validation import train_test_split#, cross_val_score\n",
    "from sklearn.grid_search import GridSearchCV\n",
    "from sklearn.pipeline import Pipeline\n",
    "from sklearn.metrics import accuracy_score, f1_score, recall_score, precision_score, roc_curve, auc\n",
    "import matplotlib.pyplot as plt\n",
    "from sklearn.tree import DecisionTreeClassifier\n",
    "from sklearn.ensemble import RandomForestClassifier"
   ]
  },
  {
   "cell_type": "code",
   "execution_count": 7,
   "metadata": {
    "collapsed": false
   },
   "outputs": [
    {
     "data": {
      "text/html": [
       "<div>\n",
       "<table border=\"1\" class=\"dataframe\">\n",
       "  <thead>\n",
       "    <tr style=\"text-align: right;\">\n",
       "      <th></th>\n",
       "      <th>user_id</th>\n",
       "      <th>promo_ind</th>\n",
       "      <th>is_auto_prolong</th>\n",
       "      <th>num_operations</th>\n",
       "      <th>duration</th>\n",
       "      <th>operation_BY_TOKEN</th>\n",
       "      <th>operation_REGULAR</th>\n",
       "      <th>churn</th>\n",
       "    </tr>\n",
       "  </thead>\n",
       "  <tbody>\n",
       "    <tr>\n",
       "      <th>0</th>\n",
       "      <td>6</td>\n",
       "      <td>0</td>\n",
       "      <td>0</td>\n",
       "      <td>11</td>\n",
       "      <td>3.3</td>\n",
       "      <td>0</td>\n",
       "      <td>1</td>\n",
       "      <td>0</td>\n",
       "    </tr>\n",
       "    <tr>\n",
       "      <th>1</th>\n",
       "      <td>7</td>\n",
       "      <td>0</td>\n",
       "      <td>0</td>\n",
       "      <td>10</td>\n",
       "      <td>59.7</td>\n",
       "      <td>0</td>\n",
       "      <td>1</td>\n",
       "      <td>0</td>\n",
       "    </tr>\n",
       "    <tr>\n",
       "      <th>2</th>\n",
       "      <td>10</td>\n",
       "      <td>0</td>\n",
       "      <td>0</td>\n",
       "      <td>7</td>\n",
       "      <td>1.8</td>\n",
       "      <td>0</td>\n",
       "      <td>1</td>\n",
       "      <td>0</td>\n",
       "    </tr>\n",
       "    <tr>\n",
       "      <th>3</th>\n",
       "      <td>14</td>\n",
       "      <td>0</td>\n",
       "      <td>1</td>\n",
       "      <td>3</td>\n",
       "      <td>349.6</td>\n",
       "      <td>0</td>\n",
       "      <td>0</td>\n",
       "      <td>0</td>\n",
       "    </tr>\n",
       "    <tr>\n",
       "      <th>4</th>\n",
       "      <td>40</td>\n",
       "      <td>0</td>\n",
       "      <td>0</td>\n",
       "      <td>6</td>\n",
       "      <td>20.5</td>\n",
       "      <td>0</td>\n",
       "      <td>1</td>\n",
       "      <td>0</td>\n",
       "    </tr>\n",
       "    <tr>\n",
       "      <th>5</th>\n",
       "      <td>72</td>\n",
       "      <td>0</td>\n",
       "      <td>0</td>\n",
       "      <td>6</td>\n",
       "      <td>7.9</td>\n",
       "      <td>0</td>\n",
       "      <td>1</td>\n",
       "      <td>0</td>\n",
       "    </tr>\n",
       "    <tr>\n",
       "      <th>6</th>\n",
       "      <td>212</td>\n",
       "      <td>0</td>\n",
       "      <td>0</td>\n",
       "      <td>2</td>\n",
       "      <td>118.4</td>\n",
       "      <td>1</td>\n",
       "      <td>0</td>\n",
       "      <td>0</td>\n",
       "    </tr>\n",
       "    <tr>\n",
       "      <th>7</th>\n",
       "      <td>266</td>\n",
       "      <td>0</td>\n",
       "      <td>0</td>\n",
       "      <td>1</td>\n",
       "      <td>25.0</td>\n",
       "      <td>1</td>\n",
       "      <td>0</td>\n",
       "      <td>1</td>\n",
       "    </tr>\n",
       "    <tr>\n",
       "      <th>8</th>\n",
       "      <td>446</td>\n",
       "      <td>0</td>\n",
       "      <td>1</td>\n",
       "      <td>1</td>\n",
       "      <td>78.2</td>\n",
       "      <td>0</td>\n",
       "      <td>1</td>\n",
       "      <td>0</td>\n",
       "    </tr>\n",
       "    <tr>\n",
       "      <th>9</th>\n",
       "      <td>524</td>\n",
       "      <td>0</td>\n",
       "      <td>1</td>\n",
       "      <td>2</td>\n",
       "      <td>211.4</td>\n",
       "      <td>0</td>\n",
       "      <td>0</td>\n",
       "      <td>0</td>\n",
       "    </tr>\n",
       "  </tbody>\n",
       "</table>\n",
       "</div>"
      ],
      "text/plain": [
       "   user_id  promo_ind  is_auto_prolong  num_operations  duration  \\\n",
       "0        6          0                0              11       3.3   \n",
       "1        7          0                0              10      59.7   \n",
       "2       10          0                0               7       1.8   \n",
       "3       14          0                1               3     349.6   \n",
       "4       40          0                0               6      20.5   \n",
       "5       72          0                0               6       7.9   \n",
       "6      212          0                0               2     118.4   \n",
       "7      266          0                0               1      25.0   \n",
       "8      446          0                1               1      78.2   \n",
       "9      524          0                1               2     211.4   \n",
       "\n",
       "   operation_BY_TOKEN  operation_REGULAR  churn  \n",
       "0                   0                  1      0  \n",
       "1                   0                  1      0  \n",
       "2                   0                  1      0  \n",
       "3                   0                  0      0  \n",
       "4                   0                  1      0  \n",
       "5                   0                  1      0  \n",
       "6                   1                  0      0  \n",
       "7                   1                  0      1  \n",
       "8                   0                  1      0  \n",
       "9                   0                  0      0  "
      ]
     },
     "execution_count": 7,
     "metadata": {},
     "output_type": "execute_result"
    }
   ],
   "source": [
    "churn_d = pd.read_csv(\"G:\\megogo\\churn_model\\churn_model.csv\", sep = \",\")\n",
    "churn_d.head(n=10)"
   ]
  },
  {
   "cell_type": "code",
   "execution_count": 6,
   "metadata": {
    "collapsed": false
   },
   "outputs": [
    {
     "name": "stdout",
     "output_type": "stream",
     "text": [
      "0    51488\n",
      "1    33844\n",
      "Name: churn, dtype: int64\n"
     ]
    }
   ],
   "source": [
    "print(churn_d['churn'].value_counts())"
   ]
  },
  {
   "cell_type": "code",
   "execution_count": 8,
   "metadata": {
    "collapsed": true
   },
   "outputs": [],
   "source": [
    "x_train, x_test, y_train, y_test = train_test_split(churn_d.ix[:, ~churn_d.columns.isin(['user_id', 'churn'])], churn_d['churn'])"
   ]
  },
  {
   "cell_type": "code",
   "execution_count": 16,
   "metadata": {
    "collapsed": true
   },
   "outputs": [],
   "source": [
    "#Logistic Regression\n",
    "pipeline_log =  Pipeline([('clf', LogisticRegression())])\n",
    "parameters_log = {'clf__penalty': ('l1', 'l2'),\n",
    "                  'clf__C': (0.01, 0.1, 1, 10),\n",
    "                  'clf__fit_intercept': (True, False)}\n",
    "\n",
    "#Decision Tree                  \n",
    "pipeline_tree = Pipeline([\n",
    "                          ('clf', DecisionTreeClassifier(criterion='entropy'))\n",
    "                          ])\n",
    "parameters_tree = {\n",
    "                   'clf__max_depth': (150, 155, 160),\n",
    "                   'clf__min_samples_split': (1, 2, 3),\n",
    "                   'clf__min_samples_leaf': (1, 2, 3)}\n",
    "\n",
    "#Random Forest                   \n",
    "pipeline_forest = Pipeline([\n",
    "                            ('clf', RandomForestClassifier(criterion='entropy'))\n",
    "                            ])\n",
    "parameters_forest = {\n",
    "                     'clf__n_estimators': (5, 10, 20, 50),\n",
    "                     'clf__max_depth': (50, 150, 250),\n",
    "                     'clf__min_samples_split': (1, 2, 3),\n",
    "                     'clf__min_samples_leaf': (1, 2, 3)}\n",
    "                     \n",
    "result = pd.DataFrame()\n",
    "\n",
    "model_data =    [\n",
    "                {'name': 'Logistic Regression',\n",
    "                 'pipeline': pipeline_log,\n",
    "                 'parameters': parameters_log,\n",
    "                 'color': 'g'},\n",
    "                 \n",
    "                {'name': 'Decision Tree',\n",
    "                 'pipeline': pipeline_tree,\n",
    "                 'parameters': parameters_tree,\n",
    "                 'color': 'r'},\n",
    "                 \n",
    "                 {'name': 'Random Forest',\n",
    "                 'pipeline': pipeline_forest,\n",
    "                 'parameters': parameters_forest,\n",
    "                 'color': 'b'}\n",
    "                 ]"
   ]
  },
  {
   "cell_type": "code",
   "execution_count": 17,
   "metadata": {
    "collapsed": true
   },
   "outputs": [],
   "source": [
    "for model in model_data:                 \n",
    "    grid_search = GridSearchCV(model['pipeline'], model['parameters'], n_jobs = -1, verbose = 0, scoring = 'f1')\n",
    "    grid_search.fit(x_train, y_train)\n",
    "    predictions = grid_search.predict(x_test)\n",
    "\n",
    "    #roc curve\n",
    "    predictions_prob = grid_search.predict_proba(x_test)\n",
    "    false_positive_rate, recall, thresholds = roc_curve(y_test, predictions_prob[:,1])\n",
    "    roc_auc = auc(false_positive_rate, recall)\n",
    "    plt.plot(false_positive_rate, recall, model['color'], label = 'AUC %s = %0.2f' % (model['name'], roc_auc))\n",
    "    plt.plot([0,1], [0,1], 'r--')\n",
    "    plt.legend(loc = 'lower right')\n",
    "    plt.ylabel('Recall')\n",
    "    plt.xlabel('Fall-out')\n",
    "    plt.title('ROC Curve')\n",
    "    temp = pd.DataFrame({'1.Best grid search score': grid_search.best_score_,\n",
    "                         '2.Accuracy': accuracy_score(y_test, predictions),\n",
    "                         '3.Precision': precision_score(y_test, predictions),\n",
    "                         '4.Recall': recall_score(y_test, predictions),\n",
    "                         '6.AUC': roc_auc,\n",
    "                         '5.F1': f1_score(y_test, predictions)\n",
    "                         }, index = [model['name']])\n",
    "    result = result.append(temp)"
   ]
  },
  {
   "cell_type": "code",
   "execution_count": 18,
   "metadata": {
    "collapsed": false
   },
   "outputs": [
    {
     "data": {
      "image/png": "[encoded data removed]",
      "text/plain": [
       "<matplotlib.figure.Figure at 0x15e197b1940>"
      ]
     },
     "metadata": {},
     "output_type": "display_data"
    }
   ],
   "source": [
    "plt.show()"
   ]
  },
  {
   "cell_type": "code",
   "execution_count": 19,
   "metadata": {
    "collapsed": false
   },
   "outputs": [
    {
     "data": {
      "text/html": [
       "<div>\n",
       "<table border=\"1\" class=\"dataframe\">\n",
       "  <thead>\n",
       "    <tr style=\"text-align: right;\">\n",
       "      <th></th>\n",
       "      <th>1.Best grid search score</th>\n",
       "      <th>2.Accuracy</th>\n",
       "      <th>3.Precision</th>\n",
       "      <th>4.Recall</th>\n",
       "      <th>5.F1</th>\n",
       "      <th>6.AUC</th>\n",
       "    </tr>\n",
       "  </thead>\n",
       "  <tbody>\n",
       "    <tr>\n",
       "      <th>Logistic Regression</th>\n",
       "      <td>0.656817</td>\n",
       "      <td>0.760090</td>\n",
       "      <td>0.755589</td>\n",
       "      <td>0.585918</td>\n",
       "      <td>0.660024</td>\n",
       "      <td>0.826004</td>\n",
       "    </tr>\n",
       "    <tr>\n",
       "      <th>Decision Tree</th>\n",
       "      <td>0.652152</td>\n",
       "      <td>0.745371</td>\n",
       "      <td>0.703106</td>\n",
       "      <td>0.622007</td>\n",
       "      <td>0.660075</td>\n",
       "      <td>0.786926</td>\n",
       "    </tr>\n",
       "    <tr>\n",
       "      <th>Random Forest</th>\n",
       "      <td>0.673073</td>\n",
       "      <td>0.755027</td>\n",
       "      <td>0.716491</td>\n",
       "      <td>0.634863</td>\n",
       "      <td>0.673212</td>\n",
       "      <td>0.811612</td>\n",
       "    </tr>\n",
       "  </tbody>\n",
       "</table>\n",
       "</div>"
      ],
      "text/plain": [
       "                     1.Best grid search score  2.Accuracy  3.Precision  \\\n",
       "Logistic Regression                  0.656817    0.760090     0.755589   \n",
       "Decision Tree                        0.652152    0.745371     0.703106   \n",
       "Random Forest                        0.673073    0.755027     0.716491   \n",
       "\n",
       "                     4.Recall      5.F1     6.AUC  \n",
       "Logistic Regression  0.585918  0.660024  0.826004  \n",
       "Decision Tree        0.622007  0.660075  0.786926  \n",
       "Random Forest        0.634863  0.673212  0.811612  "
      ]
     },
     "execution_count": 19,
     "metadata": {},
     "output_type": "execute_result"
    }
   ],
   "source": [
    "result"
   ]
  }
 ],
 "metadata": {
  "anaconda-cloud": {},
  "kernelspec": {
   "display_name": "Python [conda root]",
   "language": "python",
   "name": "conda-root-py"
  },
  "language_info": {
   "codemirror_mode": {
    "name": "ipython",
    "version": 3
   },
   "file_extension": ".py",
   "mimetype": "text/x-python",
   "name": "python",
   "nbconvert_exporter": "python",
   "pygments_lexer": "ipython3",
   "version": "3.5.2"
  }
 },
 "nbformat": 4,
 "nbformat_minor": 1
}
