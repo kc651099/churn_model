{
 "cells": [
  {
   "cell_type": "markdown",
   "metadata": {},
   "source": [
    "# Churn Prediction\n",
    "### Goal: predict users who will cancel subscription using different ML algorithms"
   ]
  },
  {
   "cell_type": "code",
   "execution_count": 1,
   "metadata": {
    "collapsed": false
   },
   "outputs": [],
   "source": [
    "import pandas as pd\n",
    "from sklearn.linear_model.logistic import LogisticRegression\n",
    "from sklearn.model_selection import train_test_split, GridSearchCV\n",
    "from sklearn.pipeline import Pipeline\n",
    "from sklearn.metrics import accuracy_score, f1_score, recall_score, precision_score, roc_curve, auc\n",
    "import matplotlib.pyplot as plt\n",
    "from sklearn.tree import DecisionTreeClassifier\n",
    "from sklearn.ensemble import RandomForestClassifier\n",
    "from sklearn.naive_bayes import GaussianNB\n",
    "from xgboost import XGBClassifier\n",
    "from sklearn.svm import SVC\n",
    "from sklearn.neural_network import MLPClassifier\n",
    "import random"
   ]
  },
  {
   "cell_type": "code",
   "execution_count": 2,
   "metadata": {
    "collapsed": false
   },
   "outputs": [
    {
     "data": {
      "text/html": [
       "<div>\n",
       "<table border=\"1\" class=\"dataframe\">\n",
       "  <thead>\n",
       "    <tr style=\"text-align: right;\">\n",
       "      <th></th>\n",
       "      <th>user_id</th>\n",
       "      <th>promo_ind</th>\n",
       "      <th>is_auto_prolong</th>\n",
       "      <th>num_operations</th>\n",
       "      <th>duration</th>\n",
       "      <th>operation_BY_TOKEN</th>\n",
       "      <th>operation_REGULAR</th>\n",
       "      <th>churn</th>\n",
       "    </tr>\n",
       "  </thead>\n",
       "  <tbody>\n",
       "    <tr>\n",
       "      <th>0</th>\n",
       "      <td>6</td>\n",
       "      <td>0</td>\n",
       "      <td>0</td>\n",
       "      <td>11</td>\n",
       "      <td>3.3</td>\n",
       "      <td>0</td>\n",
       "      <td>1</td>\n",
       "      <td>0</td>\n",
       "    </tr>\n",
       "    <tr>\n",
       "      <th>1</th>\n",
       "      <td>7</td>\n",
       "      <td>0</td>\n",
       "      <td>0</td>\n",
       "      <td>10</td>\n",
       "      <td>59.7</td>\n",
       "      <td>0</td>\n",
       "      <td>1</td>\n",
       "      <td>0</td>\n",
       "    </tr>\n",
       "    <tr>\n",
       "      <th>2</th>\n",
       "      <td>10</td>\n",
       "      <td>0</td>\n",
       "      <td>0</td>\n",
       "      <td>7</td>\n",
       "      <td>1.8</td>\n",
       "      <td>0</td>\n",
       "      <td>1</td>\n",
       "      <td>0</td>\n",
       "    </tr>\n",
       "    <tr>\n",
       "      <th>3</th>\n",
       "      <td>14</td>\n",
       "      <td>0</td>\n",
       "      <td>1</td>\n",
       "      <td>3</td>\n",
       "      <td>349.6</td>\n",
       "      <td>0</td>\n",
       "      <td>0</td>\n",
       "      <td>0</td>\n",
       "    </tr>\n",
       "    <tr>\n",
       "      <th>4</th>\n",
       "      <td>40</td>\n",
       "      <td>0</td>\n",
       "      <td>0</td>\n",
       "      <td>6</td>\n",
       "      <td>20.5</td>\n",
       "      <td>0</td>\n",
       "      <td>1</td>\n",
       "      <td>0</td>\n",
       "    </tr>\n",
       "    <tr>\n",
       "      <th>5</th>\n",
       "      <td>72</td>\n",
       "      <td>0</td>\n",
       "      <td>0</td>\n",
       "      <td>6</td>\n",
       "      <td>7.9</td>\n",
       "      <td>0</td>\n",
       "      <td>1</td>\n",
       "      <td>0</td>\n",
       "    </tr>\n",
       "    <tr>\n",
       "      <th>6</th>\n",
       "      <td>212</td>\n",
       "      <td>0</td>\n",
       "      <td>0</td>\n",
       "      <td>2</td>\n",
       "      <td>118.4</td>\n",
       "      <td>1</td>\n",
       "      <td>0</td>\n",
       "      <td>0</td>\n",
       "    </tr>\n",
       "    <tr>\n",
       "      <th>7</th>\n",
       "      <td>266</td>\n",
       "      <td>0</td>\n",
       "      <td>0</td>\n",
       "      <td>1</td>\n",
       "      <td>25.0</td>\n",
       "      <td>1</td>\n",
       "      <td>0</td>\n",
       "      <td>1</td>\n",
       "    </tr>\n",
       "    <tr>\n",
       "      <th>8</th>\n",
       "      <td>446</td>\n",
       "      <td>0</td>\n",
       "      <td>1</td>\n",
       "      <td>1</td>\n",
       "      <td>78.2</td>\n",
       "      <td>0</td>\n",
       "      <td>1</td>\n",
       "      <td>0</td>\n",
       "    </tr>\n",
       "    <tr>\n",
       "      <th>9</th>\n",
       "      <td>524</td>\n",
       "      <td>0</td>\n",
       "      <td>1</td>\n",
       "      <td>2</td>\n",
       "      <td>211.4</td>\n",
       "      <td>0</td>\n",
       "      <td>0</td>\n",
       "      <td>0</td>\n",
       "    </tr>\n",
       "  </tbody>\n",
       "</table>\n",
       "</div>"
      ],
      "text/plain": [
       "   user_id  promo_ind  is_auto_prolong  num_operations  duration  \\\n",
       "0        6          0                0              11       3.3   \n",
       "1        7          0                0              10      59.7   \n",
       "2       10          0                0               7       1.8   \n",
       "3       14          0                1               3     349.6   \n",
       "4       40          0                0               6      20.5   \n",
       "5       72          0                0               6       7.9   \n",
       "6      212          0                0               2     118.4   \n",
       "7      266          0                0               1      25.0   \n",
       "8      446          0                1               1      78.2   \n",
       "9      524          0                1               2     211.4   \n",
       "\n",
       "   operation_BY_TOKEN  operation_REGULAR  churn  \n",
       "0                   0                  1      0  \n",
       "1                   0                  1      0  \n",
       "2                   0                  1      0  \n",
       "3                   0                  0      0  \n",
       "4                   0                  1      0  \n",
       "5                   0                  1      0  \n",
       "6                   1                  0      0  \n",
       "7                   1                  0      1  \n",
       "8                   0                  1      0  \n",
       "9                   0                  0      0  "
      ]
     },
     "execution_count": 2,
     "metadata": {},
     "output_type": "execute_result"
    }
   ],
   "source": [
    "random.seed(42)\n",
    "churn_d = pd.read_csv(\"churn_model\\churn_model.csv\", sep = \",\")\n",
    "churn_d.head(10)"
   ]
  },
  {
   "cell_type": "markdown",
   "metadata": {},
   "source": [
    "promo_ind - whether customer obtained subscription in current month using promo code\n",
    "\n",
    "is_auto_prolong - whether customer ticked autoprolongation option during previous renewal or initial purchase\n",
    "\n",
    "num_operations - number of previous renewals\n",
    "\n",
    "duration - overall watch time for 30 previous days\n",
    "\n",
    "operation type: by token, regular, autoprolongation. Transformed into dummy variables operation_by_token, operation_regular\n",
    "churn - target"
   ]
  },
  {
   "cell_type": "code",
   "execution_count": 3,
   "metadata": {
    "collapsed": false
   },
   "outputs": [
    {
     "name": "stdout",
     "output_type": "stream",
     "text": [
      "0    xxxxx\n",
      "1    xxxxx\n",
      "Name: churn, dtype: int64\n"
     ]
    }
   ],
   "source": [
    "print(churn_d['churn'].value_counts())"
   ]
  },
  {
   "cell_type": "markdown",
   "metadata": {},
   "source": [
    "Roughly xx% of customers in sample cancelled their subscription."
   ]
  },
  {
   "cell_type": "code",
   "execution_count": 4,
   "metadata": {
    "collapsed": true
   },
   "outputs": [],
   "source": [
    "x_train, x_test, y_train, y_test = train_test_split(churn_d.ix[:, ~churn_d.columns.isin(['user_id', 'churn'])],\n",
    "                                                               churn_d['churn'])"
   ]
  },
  {
   "cell_type": "markdown",
   "metadata": {},
   "source": [
    "All model training and validation is carried out using grid search and cross validation."
   ]
  },
  {
   "cell_type": "markdown",
   "metadata": {},
   "source": [
    "Logistic Regression"
   ]
  },
  {
   "cell_type": "code",
   "execution_count": 5,
   "metadata": {
    "collapsed": true
   },
   "outputs": [],
   "source": [
    "pipeline_log =  Pipeline([('clf', LogisticRegression(random_state=42))])\n",
    "parameters_log = {'clf__penalty': ('l1', 'l2'),\n",
    "                  'clf__C': (0.01, 0.1, 1, 10),\n",
    "                  'clf__fit_intercept': (True, False)}"
   ]
  },
  {
   "cell_type": "markdown",
   "metadata": {},
   "source": [
    "Decision Tree"
   ]
  },
  {
   "cell_type": "code",
   "execution_count": 6,
   "metadata": {
    "collapsed": true
   },
   "outputs": [],
   "source": [
    "pipeline_tree = Pipeline([('clf', DecisionTreeClassifier(criterion='entropy', random_state=42))])\n",
    "parameters_tree = {\n",
    "                   'clf__max_depth': (150, 155, 160),\n",
    "                   'clf__min_samples_split': (2, 3, 4),\n",
    "                   'clf__min_samples_leaf': (2, 3, 4)}"
   ]
  },
  {
   "cell_type": "markdown",
   "metadata": {},
   "source": [
    "Random Forest"
   ]
  },
  {
   "cell_type": "code",
   "execution_count": 7,
   "metadata": {
    "collapsed": true
   },
   "outputs": [],
   "source": [
    "pipeline_forest = Pipeline([('clf', RandomForestClassifier(criterion='entropy', random_state=42))])\n",
    "parameters_forest = {\n",
    "                     'clf__n_estimators': (5, 10, 20, 50),\n",
    "                     'clf__max_depth': (50, 150, 250),\n",
    "                     'clf__min_samples_split': (2, 3, 4),\n",
    "                     'clf__min_samples_leaf': (2, 3, 4)}"
   ]
  },
  {
   "cell_type": "markdown",
   "metadata": {},
   "source": [
    "Naive Bayes"
   ]
  },
  {
   "cell_type": "code",
   "execution_count": 8,
   "metadata": {
    "collapsed": true
   },
   "outputs": [],
   "source": [
    "pipeline_bayes = Pipeline([('clf', GaussianNB())])\n",
    "parameters_bayes = {}"
   ]
  },
  {
   "cell_type": "markdown",
   "metadata": {},
   "source": [
    "XGBoost"
   ]
  },
  {
   "cell_type": "code",
   "execution_count": 9,
   "metadata": {
    "collapsed": true
   },
   "outputs": [],
   "source": [
    "pipeline_xgb = Pipeline([('clf', XGBClassifier(seed=42))])\n",
    "parameters_xgb = {\n",
    "                  'clf__max_depth': (3, 6, 10, 25),\n",
    "                  'clf__learning_rate': (0.1, 0.3, 0.5),\n",
    "                  'clf__n_estimators': (50, 100, 150)\n",
    "                  }"
   ]
  },
  {
   "cell_type": "markdown",
   "metadata": {},
   "source": [
    "SVM"
   ]
  },
  {
   "cell_type": "code",
   "execution_count": 10,
   "metadata": {
    "collapsed": true
   },
   "outputs": [],
   "source": [
    "pipeline_svm = Pipeline([#('ss', StandardScaler()),\n",
    "                         ('clf', SVC(kernel='rbf', probability=True, random_state=42))])\n",
    "parameters_svm = {\n",
    "                  'clf__gamma': (0.01, 0.03, 0.1, 0.3, 1),\n",
    "                  'clf__C': (0.1, 0.3, 1, 3, 10, 30, 100)\n",
    "                  }"
   ]
  },
  {
   "cell_type": "markdown",
   "metadata": {},
   "source": [
    "Neural Net"
   ]
  },
  {
   "cell_type": "code",
   "execution_count": 11,
   "metadata": {
    "collapsed": true
   },
   "outputs": [],
   "source": [
    "pipeline_nn = Pipeline([('clf', MLPClassifier(random_state=42))])\n",
    "parameters_nn = {\n",
    "                 'clf__activation': ('relu', 'logistic'),\n",
    "                 'clf__solver': ('sgd', 'adam'),\n",
    "                 'clf__hidden_layer_sizes': ([2,], [2,2], [100,], [100,150], [200,])\n",
    "                 }"
   ]
  },
  {
   "cell_type": "code",
   "execution_count": 12,
   "metadata": {
    "collapsed": true
   },
   "outputs": [],
   "source": [
    "result = pd.DataFrame()\n",
    "\n",
    "model_data =    [\n",
    "                {'name': 'Naive Bayes',\n",
    "                 'pipeline': pipeline_bayes,\n",
    "                 'parameters': parameters_bayes,\n",
    "                 'color': 'y'}, \n",
    "                 \n",
    "                {'name': 'Logistic Regression',\n",
    "                 'pipeline': pipeline_log,\n",
    "                 'parameters': parameters_log,\n",
    "                 'color': 'g'},\n",
    "                 \n",
    "                {'name': 'Decision Tree',\n",
    "                 'pipeline': pipeline_tree,\n",
    "                 'parameters': parameters_tree,\n",
    "                 'color': 'r'},\n",
    "                 \n",
    "                 {'name': 'Random Forest',\n",
    "                 'pipeline': pipeline_forest,\n",
    "                 'parameters': parameters_forest,\n",
    "                 'color': 'b'},\n",
    "                 \n",
    "                 {'name': 'XGBoost',\n",
    "                  'pipeline': pipeline_xgb,\n",
    "                  'parameters': parameters_xgb,\n",
    "                  'color': 'm'},\n",
    "                  \n",
    "                 {'name': 'Neural Net',\n",
    "                  'pipeline': pipeline_nn,\n",
    "                  'parameters': parameters_nn,\n",
    "                  'color': 'c'}\n",
    "                  \n",
    "#                  {'name': 'SVM',\n",
    "#                   'pipeline': pipeline_svm,\n",
    "#                   'parameters': parameters_svm,\n",
    "#                   'color': 'k'}\n",
    "                 ]"
   ]
  },
  {
   "cell_type": "markdown",
   "metadata": {},
   "source": [
    "We will use recall as main cross validation score, because we want to identify as many as possible users in sample who actually cancelled their subscription."
   ]
  },
  {
   "cell_type": "code",
   "execution_count": 13,
   "metadata": {
    "collapsed": false
   },
   "outputs": [
    {
     "name": "stdout",
     "output_type": "stream",
     "text": [
      "\n",
      "Fitting Naive Bayes\n",
      "Fitting 3 folds for each of 1 candidates, totalling 3 fits\n"
     ]
    },
    {
     "name": "stderr",
     "output_type": "stream",
     "text": [
      "[Parallel(n_jobs=-1)]: Done   3 out of   3 | elapsed:    2.0s finished\n"
     ]
    },
    {
     "name": "stdout",
     "output_type": "stream",
     "text": [
      "\n",
      "Fitting Logistic Regression\n",
      "Fitting 3 folds for each of 16 candidates, totalling 48 fits\n"
     ]
    },
    {
     "name": "stderr",
     "output_type": "stream",
     "text": [
      "[Parallel(n_jobs=-1)]: Done  48 out of  48 | elapsed:    7.1s finished\n"
     ]
    },
    {
     "name": "stdout",
     "output_type": "stream",
     "text": [
      "\n",
      "Fitting Decision Tree\n",
      "Fitting 3 folds for each of 27 candidates, totalling 81 fits\n"
     ]
    },
    {
     "name": "stderr",
     "output_type": "stream",
     "text": [
      "[Parallel(n_jobs=-1)]: Done  34 tasks      | elapsed:    5.4s\n",
      "[Parallel(n_jobs=-1)]: Done  81 out of  81 | elapsed:    6.7s finished\n"
     ]
    },
    {
     "name": "stdout",
     "output_type": "stream",
     "text": [
      "\n",
      "Fitting Random Forest\n",
      "Fitting 3 folds for each of 108 candidates, totalling 324 fits\n"
     ]
    },
    {
     "name": "stderr",
     "output_type": "stream",
     "text": [
      "[Parallel(n_jobs=-1)]: Done  34 tasks      | elapsed:   11.2s\n",
      "[Parallel(n_jobs=-1)]: Done 184 tasks      | elapsed:   44.6s\n",
      "[Parallel(n_jobs=-1)]: Done 324 out of 324 | elapsed:  1.2min finished\n"
     ]
    },
    {
     "name": "stdout",
     "output_type": "stream",
     "text": [
      "\n",
      "Fitting XGBoost\n",
      "Fitting 3 folds for each of 36 candidates, totalling 108 fits\n"
     ]
    },
    {
     "name": "stderr",
     "output_type": "stream",
     "text": [
      "[Parallel(n_jobs=-1)]: Done  34 tasks      | elapsed:   22.9s\n",
      "[Parallel(n_jobs=-1)]: Done 108 out of 108 | elapsed:  1.3min finished\n"
     ]
    },
    {
     "name": "stdout",
     "output_type": "stream",
     "text": [
      "\n",
      "Fitting Neural Net\n",
      "Fitting 3 folds for each of 20 candidates, totalling 60 fits\n"
     ]
    },
    {
     "name": "stderr",
     "output_type": "stream",
     "text": [
      "[Parallel(n_jobs=-1)]: Done  34 tasks      | elapsed:   33.4s\n",
      "[Parallel(n_jobs=-1)]: Done  60 out of  60 | elapsed:  2.2min finished\n"
     ]
    }
   ],
   "source": [
    "for model in model_data:\n",
    "    print('\\nFitting', model['name'])                \n",
    "    grid_search = GridSearchCV(model['pipeline'], model['parameters'], n_jobs = -1, verbose = 1, scoring = 'recall')\n",
    "    grid_search.fit(x_train, y_train)\n",
    "    predictions = grid_search.predict(x_test)\n",
    "\n",
    "    #roc curve\n",
    "    predictions_prob = grid_search.predict_proba(x_test)\n",
    "    false_positive_rate, recall, thresholds = roc_curve(y_test, predictions_prob[:,1])\n",
    "    roc_auc = auc(false_positive_rate, recall)\n",
    "    plt.plot(false_positive_rate, recall, model['color'], label = 'AUC %s = %0.2f' % (model['name'], roc_auc))\n",
    "    plt.plot([0,1], [0,1], 'r--')\n",
    "    plt.legend(loc = 'lower right')\n",
    "    plt.ylabel('Recall')\n",
    "    plt.xlabel('Fall-out')\n",
    "    plt.title('ROC Curve')\n",
    "    temp = pd.DataFrame({'1.Best grid search score': grid_search.best_score_,\n",
    "                         '2.Accuracy': accuracy_score(y_test, predictions),\n",
    "                         '3.Precision': precision_score(y_test, predictions),\n",
    "                         '4.Recall': recall_score(y_test, predictions),\n",
    "                         '6.AUC': roc_auc,\n",
    "                         '5.F1': f1_score(y_test, predictions),\n",
    "                         }, index = [model['name']])\n",
    "    result = result.append(temp)"
   ]
  },
  {
   "cell_type": "code",
   "execution_count": 14,
   "metadata": {
    "collapsed": false
   },
   "outputs": [
    {
     "data": {
      "image/png": "[encoded data removed]",
      "text/plain": [
       "<matplotlib.figure.Figure at 0x1ea7bab61d0>"
      ]
     },
     "metadata": {},
     "output_type": "display_data"
    },
    {
     "data": {
      "text/html": [
       "<div>\n",
       "<table border=\"1\" class=\"dataframe\">\n",
       "  <thead>\n",
       "    <tr style=\"text-align: right;\">\n",
       "      <th></th>\n",
       "      <th>1.Best grid search score</th>\n",
       "      <th>2.Accuracy</th>\n",
       "      <th>3.Precision</th>\n",
       "      <th>4.Recall</th>\n",
       "      <th>5.F1</th>\n",
       "      <th>6.AUC</th>\n",
       "    </tr>\n",
       "  </thead>\n",
       "  <tbody>\n",
       "    <tr>\n",
       "      <th>Naive Bayes</th>\n",
       "      <td>0.760865</td>\n",
       "      <td>0.698964</td>\n",
       "      <td>0.595119</td>\n",
       "      <td>0.767830</td>\n",
       "      <td>0.670532</td>\n",
       "      <td>0.797764</td>\n",
       "    </tr>\n",
       "    <tr>\n",
       "      <th>Logistic Regression</th>\n",
       "      <td>0.610942</td>\n",
       "      <td>0.746543</td>\n",
       "      <td>0.710070</td>\n",
       "      <td>0.616379</td>\n",
       "      <td>0.659916</td>\n",
       "      <td>0.813941</td>\n",
       "    </tr>\n",
       "    <tr>\n",
       "      <th>Decision Tree</th>\n",
       "      <td>0.615521</td>\n",
       "      <td>0.740355</td>\n",
       "      <td>0.695732</td>\n",
       "      <td>0.620609</td>\n",
       "      <td>0.656027</td>\n",
       "      <td>0.789560</td>\n",
       "    </tr>\n",
       "    <tr>\n",
       "      <th>Random Forest</th>\n",
       "      <td>0.637943</td>\n",
       "      <td>0.756106</td>\n",
       "      <td>0.722431</td>\n",
       "      <td>0.631183</td>\n",
       "      <td>0.673732</td>\n",
       "      <td>0.816940</td>\n",
       "    </tr>\n",
       "    <tr>\n",
       "      <th>XGBoost</th>\n",
       "      <td>0.634429</td>\n",
       "      <td>0.744949</td>\n",
       "      <td>0.696342</td>\n",
       "      <td>0.639643</td>\n",
       "      <td>0.666789</td>\n",
       "      <td>0.808473</td>\n",
       "    </tr>\n",
       "    <tr>\n",
       "      <th>Neural Net</th>\n",
       "      <td>0.700154</td>\n",
       "      <td>0.750621</td>\n",
       "      <td>0.687419</td>\n",
       "      <td>0.687581</td>\n",
       "      <td>0.687500</td>\n",
       "      <td>0.831064</td>\n",
       "    </tr>\n",
       "  </tbody>\n",
       "</table>\n",
       "</div>"
      ],
      "text/plain": [
       "                     1.Best grid search score  2.Accuracy  3.Precision  \\\n",
       "Naive Bayes                          0.760865    0.698964     0.595119   \n",
       "Logistic Regression                  0.610942    0.746543     0.710070   \n",
       "Decision Tree                        0.615521    0.740355     0.695732   \n",
       "Random Forest                        0.637943    0.756106     0.722431   \n",
       "XGBoost                              0.634429    0.744949     0.696342   \n",
       "Neural Net                           0.700154    0.750621     0.687419   \n",
       "\n",
       "                     4.Recall      5.F1     6.AUC  \n",
       "Naive Bayes          0.767830  0.670532  0.797764  \n",
       "Logistic Regression  0.616379  0.659916  0.813941  \n",
       "Decision Tree        0.620609  0.656027  0.789560  \n",
       "Random Forest        0.631183  0.673732  0.816940  \n",
       "XGBoost              0.639643  0.666789  0.808473  \n",
       "Neural Net           0.687581  0.687500  0.831064  "
      ]
     },
     "execution_count": 14,
     "metadata": {},
     "output_type": "execute_result"
    }
   ],
   "source": [
    "plt.show()\n",
    "result"
   ]
  },
  {
   "cell_type": "markdown",
   "metadata": {},
   "source": [
    "We will go with neural net as the best model for current task, because it has highest AUC, F1 scores and second best accuracy.\n",
    "\n",
    "It has second worst precision which means that 69% of customers who we named as churn, actually cancelled their subscription. But neural net has the best recall after naive bayes which means that it can correctly identify 69% of actual churn.\n",
    "\n",
    "For this task we may accept this trade-off, because we are more interested in actual churn."
   ]
  }
 ],
 "metadata": {
  "anaconda-cloud": {},
  "kernelspec": {
   "display_name": "Python [conda root]",
   "language": "python",
   "name": "conda-root-py"
  },
  "language_info": {
   "codemirror_mode": {
    "name": "ipython",
    "version": 3
   },
   "file_extension": ".py",
   "mimetype": "text/x-python",
   "name": "python",
   "nbconvert_exporter": "python",
   "pygments_lexer": "ipython3",
   "version": "3.5.2"
  }
 },
 "nbformat": 4,
 "nbformat_minor": 1
}
